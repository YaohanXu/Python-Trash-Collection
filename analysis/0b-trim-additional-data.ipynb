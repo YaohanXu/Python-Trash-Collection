{
 "cells": [
  {
   "cell_type": "markdown",
   "id": "19cc868c",
   "metadata": {},
   "source": [
    "---\n",
    "format: \n",
    "  html:\n",
    "    toc: true\n",
    "    number-sections: true\n",
    "---"
   ]
  },
  {
   "cell_type": "markdown",
   "id": "fb3d6fdd-d7e8-4213-969c-767967155aac",
   "metadata": {},
   "source": [
    "# Trim Additional Data"
   ]
  },
  {
   "cell_type": "markdown",
   "id": "d0f31e57",
   "metadata": {},
   "source": [
    "**Do not Re-run!!**\n",
    "\n",
    "To enhance the efficiency of data analysis, this section is used to pre-process other large datasets and store them as clean, reduced datasets created for analysis purposes. Additional data gathered and cleaned include Department of Health and Mental Hygiene (DOHMH) New York City Restaurant Inspection Results and additional 311 request records.\n",
    "\n",
    "*This section should not be re-run due to its sole purpose for the creation of more manageable datasets.*\n",
    "\n",
    "source: \n",
    "- DOHMH New York City Restaurant Inspection Results, NYC Open Data [https://data.cityofnewyork.us/Health/DOHMH-New-York-City-Restaurant-Inspection-Results/43nn-pn8j/about_data]\n",
    "- 311 Service Requests from 2010 to Present, NYC Open Data [https://data.cityofnewyork.us/Social-Services/311-Service-Requests-from-2010-to-Present/erm2-nwe9/about_data]"
   ]
  },
  {
   "cell_type": "markdown",
   "id": "1cc6f9ce",
   "metadata": {},
   "source": [
    "## Set Up"
   ]
  },
  {
   "cell_type": "code",
   "execution_count": 1,
   "id": "e29aa8d7-1e3a-4287-8d0f-66b77c9f697e",
   "metadata": {
    "tags": []
   },
   "outputs": [],
   "source": [
    "import pandas as pd\n",
    "import geopandas as gpd\n",
    "import numpy as np\n",
    "\n",
    "from datetime import datetime"
   ]
  },
  {
   "cell_type": "markdown",
   "id": "2955461c-cd22-47d0-ba9e-15cd51b9b5ed",
   "metadata": {},
   "source": [
    "## DOHMH New York City Restaurant Inspection Results"
   ]
  },
  {
   "cell_type": "markdown",
   "id": "00bea6fb-97c5-4f00-84bd-43468cd51bb6",
   "metadata": {},
   "source": [
    "First, we loaded the New York City Restaurant Results dataset and extracted all unique violation types. While the violation types are highly descriptive, we note that terms like \"mice,\" \"roaches,\" and \"vermin\" are indicative of a restaurant's high vulnerability to trash mismanagement. Using a complete list of these indicative words, we filtered the dataset to include only trash-related conditions and stored it for further use."
   ]
  },
  {
   "cell_type": "code",
   "execution_count": 2,
   "id": "8791e3ee-92c3-424a-9bf2-272a2783be82",
   "metadata": {
    "tags": []
   },
   "outputs": [],
   "source": [
    "res_inspection = pd.read_csv(\"data/DOHMH_New_York_City_Restaurant_Inspection_Results.csv\")"
   ]
  },
  {
   "cell_type": "code",
   "execution_count": 3,
   "id": "180bed26-9631-4792-91d0-65e43ebdce22",
   "metadata": {
    "tags": []
   },
   "outputs": [
    {
     "name": "stdout",
     "output_type": "stream",
     "text": [
      "[nan 'Thawing procedure improper.'\n",
      " 'Hot TCS food item not held at or above 140 °F.'\n",
      " 'Hot food item not held at or above 140º F.'\n",
      " \"Evidence of mice or live mice in establishment's food or non-food areas.\"\n",
      " 'Hand wash sign not posted'\n",
      " \"Live roaches in facility's food or non-food area.\"\n",
      " 'Current letter grade or Grade Pending card not posted'\n",
      " 'Current letter grade sign not posted.'\n",
      " 'Food contact surface not properly maintained.'\n",
      " 'Wiping cloths soiled or not stored in sanitizing solution.'\n",
      " 'Ashtrays in smoke-free area' 'Thawing procedures improper.'\n",
      " 'Wiping cloths not stored clean and dry, or in a sanitizing solution, between uses.'\n",
      " 'Permit not conspicuously displayed.'\n",
      " 'Equipment used for ROP not approved by the Department'\n",
      " 'Wash hands sign not posted near or above hand washing sink.'\n",
      " \"Live roaches present in facility's food and/or non-food areas.\"\n",
      " \"Evidence of rats or live rats in establishment's food or non-food areas.\"\n",
      " 'MISBRANDED AND LABELING'\n",
      " 'Workplace SFAA policy not prominently posted in workplace.'\n",
      " 'Proper sanitization not provided for utensil ware washing operation.'\n",
      " 'Workplace SFAA policy not prominently posted in workplace'\n",
      " \"Evidence of mice or live mice present in facility's food and/or non-food areas.\"\n",
      " 'Food worker/food vendor does not use utensil or other barrier to eliminate bare hand contact with food that will not receive adequate additional heat treatment.'\n",
      " 'Food Protection Certificate not held by supervisor of food operations.'\n",
      " 'Sewage disposal system is not provided, improper, inadequate or unapproved.'\n",
      " 'Failure to display required signage about plastic straw availability'\n",
      " 'Establishment is not free of harborage or conditions conducive to rodents, insects or other pests.'\n",
      " 'Lighting Inadequate'\n",
      " 'Failure to post or conspicuously post healthy eating information'\n",
      " 'Food Protection Certificate (FPC) not held by manager or supervisor of food operations.'\n",
      " 'No Smoking permitted in an area where it is prohibited'\n",
      " 'Sewage disposal system improper or unapproved.'\n",
      " 'Accurate thermometer not provided in refrigerated or hot holding equipment.'\n",
      " 'Food Protection Certificate not available for inspection'\n",
      " 'Failure to display required signage about plastic straw availability.'\n",
      " 'Non-food contact surface or equipment made of unacceptable material, not kept clean, or not properly sealed, raised, spaced or movable to allow accessibility for cleaning on all sides, above and underneath the unit.'\n",
      " 'Accurate thermometer not provided or properly located in refrigerated, cold storage or hot holding equipment'\n",
      " 'Raw, cooked or prepared food is adulterated, contaminated, cross-contaminated, or not discarded in accordance with HACCP plan.'\n",
      " 'After cooking or removal from hot holding, TCS food not cooled by an approved method whereby the internal temperature is reduced from 140 °F to 70 °F or less within 2  hours, and from 70 °F to 41 °F or less within 4 additional hours.'\n",
      " 'Insufficient or no refrigerated or hot holding equipment to keep potentially hazardous foods at required temperatures.'\n",
      " 'Design, construction, materials used or maintenance of food contact surface improper.  Surface not easily cleanable, sanitized and maintained.'\n",
      " 'Non-food contact surface improperly constructed. Unacceptable material used. Non-food contact surface or equipment improperly maintained and/or not properly sealed, raised, spaced or movable to allow accessibility for cleaning on all sides, above and underneath the unit.'\n",
      " 'Sanitized equipment or utensil, including in-use food dispensing utensil, improperly used or stored.'\n",
      " 'Cold TCS food item held above 41 °F; smoked or processed fish held above 38 °F; intact raw eggs held above 45 °F; or reduced oxygen packaged (ROP) TCS foods held above required temperatures except during active necessary preparation.'\n",
      " 'Facility not vermin proof. Harborage or conditions conducive to attracting vermin to the premises and/or allowing vermin to exist.'\n",
      " 'Filth flies or food/refuse/sewage associated with (FRSA) flies or other nuisance pests in establishment’s food and/or non-food areas. FRSA flies include house flies, blow flies, bottle flies, flesh flies, drain flies, Phorid flies and fruit flies.'\n",
      " 'Single service article not provided.  Single service article reused or not protected from contamination when transported, stored, dispensed.  Drinking straws not completely enclosed in wrapper or dispensed from a sanitary device.'\n",
      " 'Mechanical or natural ventilation not provided, inadequate, improperly installed, in disrepair or fails to prevent and control excessive build-up of grease, heat, steam condensation, vapors, odors, smoke or fumes.'\n",
      " 'Food contact surface not properly washed, rinsed and sanitized after each use and following any activity when contamination may have occurred.'\n",
      " 'Design, construction, materials used or maintenance of food contact surface improper. Surface not easily cleanable, sanitized and maintained.'\n",
      " 'Design, construction, materials used or maintenance of food contact surface improper.  Surface not easily cleanable, sanitized and maintained.  Culinary sink or other acceptable method not provided for washing food.'\n",
      " 'Food not protected from potential source of contamination during storage, preparation, transportation, display or service.'\n",
      " 'Filth flies or food/refuse/sewage associated with (FRSA) flies or other nuisance pests  in  establishment’s food and/or non-food areas. FRSA flies include house flies, blow flies, bottle flies, flesh flies, drain flies, Phorid flies and fruit flies.'\n",
      " 'Plumbing not properly installed or maintained; anti-siphonage or backflow prevention device not provided where required; equipment or floor not properly drained; sewage disposal system in disrepair or not functioning properly.'\n",
      " 'Anti-siphonage or back-flow prevention device not provided where required; equipment or floor not properly drained; sewage disposal system in disrepair or not functioning properly. Condensation or liquid waste improperly disposed of.'\n",
      " 'Food, supplies, and equipment not protected from potential source of contamination during storage, preparation, transportation, display or service.'\n",
      " 'Swollen, leaking, rusted or otherwise damaged canned food to be returned to distributor not segregated from intact product and clearly labeled DO NOT USE'\n",
      " 'Personal cleanliness inadequate. Outer garment soiled with possible contaminant. Effective hair restraint not worn in an area where food is prepared.'\n",
      " 'Dishwashing and ware washing: Cleaning and sanitizing of tableware, including dishes, utensils, and equipment deficient.'\n",
      " 'Personal cleanliness is inadequate. Outer garment soiled with possible contaminant. Effective hair restraint not worn where required. Jewelry worn on hands or arms. Fingernail polish worn or fingernails not kept clean and trimmed.'\n",
      " 'Food, supplies, or equipment not protected from potential source of contamination during storage, preparation, transportation, display, service or from customer’s refillable, reusable container.  Condiments not in single-service containers or dispensed directly by the vendor.'\n",
      " 'Contract with a pest management professional not in place.  Record of extermination activities not kept on premises.'\n",
      " 'No hand washing facility in or adjacent to toilet room or within 25 feet of a food preparation, food service or ware washing area. Hand washing facility not accessible, obstructed or used for non-hand washing purposes. No hot and cold running water or water at inadequate pressure. No soap or acceptable hand-drying device.'\n",
      " 'Properly scaled and calibrated thermometer or thermocouple not provided or not readily accessible in food preparation and hot/cold holding areas to measure temperatures of TCS foods during cooking, cooling, reheating, and holding.'\n",
      " 'Pesticide not properly labeled or used by unlicensed individual. Pesticide, other toxic chemical improperly used/stored. Unprotected, unlocked bait station used.'\n",
      " 'Mechanical or natural ventilation system not provided,  improperly installed, in disrepair and/or fails to prevent excessive build-up of grease, heat, steam condensation vapors, odors, smoke, and fumes.'\n",
      " 'Cold food item held above 41º F (smoked fish and reduced oxygen packaged foods above 38 ºF) except during necessary preparation.'\n",
      " \"Evidence of rats or live rats present in facility's food and/or non-food areas.\"\n",
      " 'Personal cleanliness is inadequate. Outer garment soiled with possible contaminant. Effective hair restraint not worn where required.  Jewelry is worn on hands or arms.  Fingernail polish worn or fingernails not kept clean and trimmed.'\n",
      " 'Toilet facility not provided for employees or for patrons when required. Shared patron-employee toilet accessed through kitchen, food prep or storage area or utensil washing area.'\n",
      " 'No approved written standard operating procedure for avoiding contamination by refillable returnable containers.'\n",
      " 'Single service item reused, improperly stored, dispensed; not used when required.'\n",
      " 'Garbage receptacle not pest or water resistant, with tight-fitting lids, and covered except while in active use. Garbage receptacle and cover not cleaned after emptying and prior to reuse. Garbage, refuse and other solid and liquid waste not collected, stored, removed and disposed of so as to prevent a nuisance.'\n",
      " 'Food allergy information poster not conspicuously posted where food is being prepared or processed by food workers.'\n",
      " 'The original nutrition fact labels or ingredient label for a cooking oil, shortening or margarine or food item sold in bulk, or acceptable manufacturer’s documentation not maintained on site.'\n",
      " 'Food worker/food vendor does not wash hands thoroughly after using the toilet, or after coughing, sneezing, smoking, eating, preparing raw foods or otherwise contaminating hands or does not change gloves when required; Worker fails to refrain from smoking or being fully clothed in clean outer garments.'\n",
      " 'Contract with a pest management professional not in place. Record of extermination activities not kept on premises.'\n",
      " 'Food, supplies, or equipment not protected from potential source of contamination during storage, preparation, transportation, display, service or from customer’s refillable, reusable container. Condiments not in single-service containers or dispensed directly by the vendor.'\n",
      " 'Insufficient or no hot holding, cold storage or cold holding equipment provided to maintain Time/Temperature Control for Safety Foods (TCS) at required temperatures'\n",
      " 'Tobacco or electronic cigarette use, eating, or drinking from open container in food preparation, food storage or dishwashing area.'\n",
      " 'Unapproved outdoor, street or sidewalk cooking.'\n",
      " 'Filth flies or food/refuse/sewage-associated (FRSA) flies present in facility’s food and/or non-food areas.  Filth flies include house flies, little house flies, blow flies, bottle flies and flesh flies.  Food/refuse/sewage-associated flies include fruit flies, drain flies and Phorid flies.'\n",
      " 'TCS food removed from cold holding or prepared from or combined with ingredients at room temperature not cooled by an approved method to 41 °F or below within 4 hours.'\n",
      " 'Pesticide use not in accordance with label or applicable laws. Prohibited chemical used/stored. Open bait station used.'\n",
      " 'After cooking or removal from hot holding, TCS food not cooled by an approved method whereby the internal temperature is reduced from 140 °F to 70 °F or less within 2 hours, and from 70 °F to 41 °F or less within 4 additional hours.'\n",
      " '“Choking first aid” poster not posted. “Alcohol and Pregnancy” warning sign not posted. Resuscitation equipment: exhaled air resuscitation masks (adult & pediatric), latex gloves, sign not posted.'\n",
      " \"Live animals other than fish in tank or service animal present in facility's food and/or non-food areas.\"\n",
      " 'Pesticide not properly labeled or used by unlicensed individual.  Pesticide, other toxic chemical improperly used/stored. Unprotected, unlocked bait station used.'\n",
      " 'Toilet facility not maintained or provided with toilet paper, waste receptacle or self-closing door.'\n",
      " 'Hand washing facility not provided in or near food preparation area and toilet room. Hot and cold running water at adequate pressure to enable cleanliness of employees not provided at facility. Soap and an acceptable hand-drying device not provided.'\n",
      " 'Food not cooled by an approved method whereby the internal product temperature is reduced from 140º F to 70º F or less within 2  hours, and from 70º F to 41º F or less within 4 additional hours.'\n",
      " 'Dishwashing and ware washing:  Cleaning and sanitizing of tableware, including dishes, utensils, and equipment deficient.'\n",
      " 'Live animal other than fish in tank or service animal present in facility’s food or non-food area.'\n",
      " 'HACCP plan not approved or approved HACCP plan not maintained on premises.'\n",
      " 'Food, food preparation area, food storage area, area used by employees or patrons, contaminated by sewage or liquid waste.'\n",
      " 'Warning sign re dangers of hookah smoking not posted at or on each public entryway to Non-Tobacco Hookah Establishment (NTHE) patron'\n",
      " 'Failure to maintain a sufficient supply of single-use, non-compostable plastic straws.'\n",
      " 'Sign prohibiting smoking or using electronic cigarettes not conspicuously posted.'\n",
      " 'Food worker does not use proper utensil to eliminate bare hand contact with food that will not receive adequate additional heat treatment.'\n",
      " 'Nuisance created or allowed to exist. Facility not free from unsafe, hazardous, offensive or annoying condition.'\n",
      " 'Single service article not provided. Single service article reused or not protected from contamination when transported, stored, dispensed. Drinking straws not completely enclosed in wrapper or dispensed from a sanitary device.'\n",
      " 'Required succinct nutritional statements not posted on menu(s) for adults and children (2,000 calories per day for adults)'\n",
      " 'Flavored tobacco products sold or offered for sale'\n",
      " 'No hand washing facility in or adjacent to toilet room or within 25 feet of a food preparation, food service or ware washing area.  Hand washing facility not accessible, obstructed or used for non-hand washing purposes. No hot and cold running water or water at inadequate pressure. No soap or acceptable hand-drying device.'\n",
      " 'Providing single-use, non-compostable plastic straws to customers without customer request (including providing such straws at a self-serve station)'\n",
      " 'Failure to comply with an order of the Board of Health, Commissioner or Department.'\n",
      " 'Additional nutritional information statement not posted, or additional nutritional information not provided'\n",
      " 'Current letter grade or \"Grade Pending\" card not posted.'\n",
      " 'Shellfish not from approved source, not or improperly tagged/labeled; tags not retained for 90 days.'\n",
      " 'Tobacco use, eating, or drinking from open container in food preparation, food storage or dishwashing area observed.'\n",
      " 'Food, prohibited, from unapproved or unknown source, home canned or home prepared. Animal slaughtered, butchered or dressed (eviscerated, skinned) in establishment. Reduced Oxygen Packaged (ROP) fish not frozen before processing. ROP food prepared on premises transported to another site.'\n",
      " 'Personal cleanliness is inadequate. Outer garment soiled with possible contaminant. Effective hair restraint not worn where required.  Jewelry worn on hands or arms.  Fingernail polish worn or fingernails not kept clean and trimmed.'\n",
      " 'No or inadequate potable water supply. Water or ice not potable or from unapproved source. Bottled water not NY State certified. Cross connection in potable water supply system.'\n",
      " 'Additional nutritional information statement not posted, and/or additional nutritional information not provided.'\n",
      " 'Caloric content not posted on menus, menu boards or food tags, in a food service establishment that is 1 of 15 or more outlets operating the same type of business nationally under common ownership or control, or as a franchise or doing business under the same name, for each menu item that is served in portions, the size and content of which are standardized.'\n",
      " 'Lighting fixture located over, by or within food storage, preparation, service or display facility, and facility where utensils and equipment are cleaned and stored, which may shatter due to extreme heat, temperature changes or accidental contact; not fitted with shatterproof bulb or shielded and encased, with end caps or other device.'\n",
      " 'Harmful, noxious gas or vapor detected. CO =13 ppm.'\n",
      " 'Food adulterated or misbranded.  Adulterated or misbranded food possessed, being manufactured, produced, packed, sold, offered for sale, delivered or given away'\n",
      " 'Document issued by the Board of Health, Commissioner or Department reproduced or altered. False, untrue or misleading statement or document made to, submitted or filed with the Department'\n",
      " 'Time/Temperature Control for Safety (TCS) food not cooked to required minimum internal temperature.   • Poultry, poultry parts, ground and comminuted poultry, all stuffing containing poultry, meats, fish or ratites to or above 165 °F for 15 seconds with no interruption of the cooking process   • Ground meat, and food containing ground and comminuted meat, to or above 158 °F for 15 seconds with no interruption of the cooking process, except per individual customer request  • Pork, any food containing pork to or above 150 °F for 15 seconds  • Mechanically tenderized or injected meats to or above 155 °F.  • Whole meat roasts and beef steak to or above required temperature and time except per individual customer request  • Raw animal foods cooked in microwave to or above165 °F, covered, rotated or stirred   • All other foods to or above 140 °F for 15 seconds; shell eggs to or above 145 °F for 15 seconds except per individual customer request.'\n",
      " 'Appropriately scaled metal stem-type thermometer or thermocouple not provided or used to evaluate temperatures of potentially hazardous foods during cooking, cooling, reheating and holding.'\n",
      " 'Current letter grade or \"Grade Pending\" card not conspicuously posted or visible to passersby'\n",
      " 'Required calorie information not posted/improperly posted.'\n",
      " 'Unclean or cracked whole eggs or unpasteurized liquid, frozen or powdered eggs kept or used.'\n",
      " 'Covered garbage receptacle not provided or inadequate, except that garbage receptacle may be uncovered during active use. Garbage storage area not properly constructed or maintained; grinder or compactor dirty.'\n",
      " 'Food worker does not wash hands thoroughly after using the toilet, coughing, sneezing, smoking, eating, preparing raw foods or otherwise contaminating hands.'\n",
      " 'Lighting inadequate; permanent lighting not provided in food preparation areas, ware washing areas, and storage rooms. Shatterproof bulb or shield to prevent broken glass from falling into food or onto surfaces, not installed.'\n",
      " '“Choking first aid” poster not posted. “Alcohol and pregnancy” warning sign not posted. Resuscitation equipment: exhaled air resuscitation masks (adult & pediatric), latex gloves, sign not posted.'\n",
      " 'Hot TCS food item that has been cooked and cooled is being held for service without first being reheated to 165º F or above within 2 hours.'\n",
      " 'Canned food product observed dented and not segregated from other consumable food items.'\n",
      " 'Records and logs not maintained to show that approved HACCP plan has been properly implemented.'\n",
      " 'No facilities available to wash, rinse and sanitize utensils and/or equipment.'\n",
      " 'Harmful noxious gas or vapor detected. Carbon Monoxide (CO) level exceeds nine (9) ppm'\n",
      " 'Juice packaged on premises with no or incomplete label, no warning statement'\n",
      " 'Food prepared from ingredients at ambient temperature not cooled to 41º F or below within 4 hours.'\n",
      " 'Meat, fish, molluscan shellfish, unpasteurized raw shell eggs, poultry or other TCS offered or served raw or undercooked and written notice not provided to consumer.'\n",
      " 'Hot food item that has been cooked and refrigerated is being held for service without first being reheated to 165º F or above within 2 hours.'\n",
      " 'Toxic chemical improperly labeled, stored or used such that food contamination may occur.'\n",
      " 'Nuisance created or allowed to exist.  Facility not free from unsafe, hazardous, offensive or annoying conditions.'\n",
      " 'Sale or use of certain expanded polystyrene items restricted'\n",
      " 'Providing single-use plastic stirrers or single-use plastic splash sticks.'\n",
      " 'Food worker/food vendor does not wash hands thoroughly  after using the toilet, or after coughing, sneezing, smoking, eating, preparing raw foods or otherwise contaminating hands or does not change gloves when required; Worker fails to refrain from smoking or  being fully clothed in clean outer garments.'\n",
      " 'Food not cooked to required minimum temperature.'\n",
      " 'Food from unapproved or unknown source or home canned. Reduced oxygen packaged (ROP) fish not frozen before processing; or ROP foods prepared on premises transported to another site.'\n",
      " 'Food adulterated or misbranded. Adulterated or misbranded food possessed, being manufactured, produced, packed, sold, offered for sale, delivered or given away'\n",
      " 'Hot TCS food item that has been cooked and  cooled is being held for service without first being reheated to 165º F or above within 2 hours.'\n",
      " 'Toxic chemical or pesticide improperly stored or used such that food contamination may occur.'\n",
      " 'Expanded Polystyrene (EPS) single service article not designated as a recyclable material.'\n",
      " 'Bulb not shielded or shatterproof, in areas where there is extreme heat, temperature changes, or where accidental contact may occur.'\n",
      " 'Food preparation area, food storage area, or other area used by employees or patrons, contaminated by sewage or liquid waste.'\n",
      " 'Food contact surface, refillable, reusable containers, or equipment improperly constructed, placed or maintained. Unacceptable material used. Culinary sink or other acceptable method not provided for washing food.'\n",
      " 'Food contact surface, refillable, reusable containers, or equipment improperly constructed, placed or maintained. Unacceptable material used.  Culinary sink or other acceptable method not provided for washing food.'\n",
      " 'Commercially processed pre-cooked TCS in hermetically sealed containers and precooked TCS in intact packages from non-retail food processing establishments not heated to 140 °F within 2 hours of removal from container or package.'\n",
      " 'Precooked potentially hazardous food from commercial food processing establishment that is supposed to be heated, but is not heated to 140º F within 2 hours.'\n",
      " 'Toilet facility not maintained and provided with toilet paper, waste receptacle and self-closing door.'\n",
      " 'Required nutritional information statement not posted (2,000 calories per day).'\n",
      " 'Providing compostable plastic straws to be used outside of the food establishment’s premises; failure to appropriately dispose of compostable plastic straws; failure to maintain required bins for disposal of compostable plastic straws.'\n",
      " 'Food, prohibited, from unapproved or unknown source, home canned or home prepared.  Animal slaughtered, butchered or dressed (eviscerated, skinned) in establishment. Reduced Oxygen Packaged (ROP) fish not frozen before processing.  ROP food prepared on premises transported to another site.'\n",
      " 'The original nutritional fact labels and/or ingredient label for a cooking oil, shortening or margarine or food item sold in bulk, or acceptable manufacturer’s documentation not maintained on site.'\n",
      " 'Current valid permit, registration or other authorization to operate a Temporary Food Service Establishment (TFSE) not available.'\n",
      " 'Food contact surface improperly constructed or located. Unacceptable material used.'\n",
      " 'Food service operation occurring in room or area used as living or sleeping quarters.'\n",
      " 'Food containing a prohibited substance held, kept, offered, prepared, processed, packaged, or served.'\n",
      " 'Manufacture of frozen dessert not authorized on Food Service Establishment permit. Milk or milk product undated, improperly dated or expired.'\n",
      " 'Written Standard Operating Procedure (SOP) approved by the Department for refillable, reusable containers not available at the time of inspection.  Container construction improper'\n",
      " 'Time/Temperature Control for Safety (TCS) food not cooked to required minimum internal temperature. • Poultry, poultry parts, ground and comminuted poultry, all stuffing containing poultry, meats, fish or ratites to or above 165 °F for 15 seconds with no interruption of the cooking process  • Ground meat, and food containing ground and comminuted meat, to or above 158 °F for 15 seconds with no interruption of the cooking process, except per individual customer request• Pork, any food containing pork to or above 150 °F for 15 seconds• Mechanically tenderized or injected meats to or above 155 °F.• Whole meat roasts and beef steak to or above required temperature and time except per individual customer request• Raw animal foods cooked in microwave to or above165 °F, covered, rotated or stirred  • All other foods to or above 140 °F for 15 seconds; shell eggs to or above 145 °F for 15 seconds except per individual customer request.'\n",
      " 'Harmful noxious gas or vapor detected.  Carbon Monoxide (CO) level exceeds nine (9) ppm'\n",
      " 'Food, food preparation area, food storage area, or other area used by employees or patrons, contaminated by sewage or liquid waste.'\n",
      " 'Flavored tobacco products sold, offered for sale'\n",
      " 'Sodium Warning statement not posted conspicuously at the point of purchase. “Warning: [icon image] indicates that the sodium (salt) content of this item is higher than the total daily recommended limit (2300 mg). High sodium intake can increase blood pressure and risk of heart disease and stroke.”'\n",
      " 'Food worker or vendor working or is knowingly or negligently permitted to work in FSE while afflicted with  infected wound  or reportable communicable disease.  No spitting allowed. Spitting anywhere in the establishment is prohibited.'\n",
      " 'Sodium Warning icon not posted on menus, menu boards or food tags for food items that contain 2300mg or more of sodium in a food service establishment that is 1 of 15 or more outlets operating the same type of business nationally under common ownership or control, or as a franchise or doing business under the same name, for each menu item that is served in portions, the size and content of which are standardized'\n",
      " 'Order or notice posted or required to be posted by the Department mutilated, obstructed or removed.'\n",
      " 'Smoke free workplace smoking policy inadequate, not posted, not provided to employees.'\n",
      " 'Food package (including canned food product or hermetically sealed container) not in good condition to the degree contents are not suitable for human consumption. Package is swollen, leaking or rusted, without “DO NOT USE” label or not segregated from consumable food items.'\n",
      " 'Original label for smoking products sold or offered for sale.'\n",
      " 'Current valid permit, registration or other authorization to operate a Food Service Establishment (FSE) or Non-retail Food Processing Establishment (NRFP) not available.'\n",
      " 'Ashtray present in smoke-free area.'\n",
      " 'Failure to make a good faith effort to inform smokers or electronic cigarette users of Smoke-Free Air Act (\"SFAA\") prohibitions'\n",
      " 'Failure to provide a single-use, non-compostable plastic straw upon request.'\n",
      " 'Sodium Warning - Statement'\n",
      " 'Document issued by the Board of Health, Commissioner or Department unlawfully reproduced or altered.'\n",
      " 'Food service operation occurring in room used as living or sleeping quarters.'\n",
      " 'Potable water supply inadequate. Water or ice not potable or from unapproved source. Cross connection in potable water supply system observed.'\n",
      " 'Operator failed to make a good faith effort to inform smokers or users of electronic cigarettes of the SFAA'\n",
      " 'ROP processing equipment not approved by DOHMH.'\n",
      " 'Smoking or electronic cigarette use allowed in prohibited area'\n",
      " 'Failure to comply with an Order of the Board of Health, Commissioner, or Department.'\n",
      " 'No or inadequate potable water supply. Water or ice not potable or from unapproved source. Bottled water not NY State certified.  Cross connection in potable water supply system.'\n",
      " 'Food allergy poster does not contain text provided or approved by Department.'\n",
      " 'Warning sign re dangers of hookah smoking not posted in each room or area of Non-Tobacco Hookah Establishment (NTHE) where smoking is allowed'\n",
      " 'A food containing artificial trans fat, with 0.5 grams or more of trans fat per serving, is being stored, distributed, held for service, used in preparation of a menu item, or served.'\n",
      " 'Sign prohibiting smoking or using electronic cigarettes not conspicuously  posted'\n",
      " 'Unpasteurized milk or milk product (except certain aged cheese) served.'\n",
      " 'Shellfish not from approved source, improperly tagged/labeled; tags not retained for 90 days.'\n",
      " '“No Smoking” and/or “Smoking Permitted” sign not conspicuously posted. Health warning not present on “Smoking Permitted” sign.'\n",
      " 'Meat, fish or molluscan shellfish served raw or undercooked without prior notification to customer.'\n",
      " 'Raw fruit or vegetable not properly washed prior to cutting or serving.'\n",
      " 'Eggs found dirty/cracked; liquid, frozen or powdered eggs not pasteurized.'\n",
      " 'Sodium Warning - Icon not posted'\n",
      " 'Food worker or vendor working or is knowingly or negligently permitted to work in FSE while afflicted with infected wound or reportable communicable disease. No spitting allowed. Spitting anywhere in the establishment is prohibited.'\n",
      " 'Duties of an officer of the Department interfered with or obstructed.'\n",
      " 'Sodium Warning icon posted on menus, menu boards or food tags for food items that contain 2300mg or more of sodium is not a black and white equilateral triangle; or the  equilateral triangle is not as wide as it is tall, or is not equal in height to the largest letter in the food item’s name, as displayed on the menu, menu board, or tag.'\n",
      " 'Letter grade or Grade Pending card not conspicuously posted and visible to passersby.'\n",
      " 'Food package (including canned food product or hermetically sealed container) not in good condition to the degree contents are not suitable for human consumption.  Package is swollen, leaking or rusted, without “DO NOT USE” label or not segregated from consumable food items.'\n",
      " 'Records and logs not maintained to demonstrate that HACCP plan has been properly implemented.'\n",
      " 'A food containing artificial trans-fat, with 0.5 grams or more of trans fat per serving, is being stored, distributed, held for service, used in preparation of a menu item, or served.'\n",
      " 'Sodium Warning - Icon not compliant'\n",
      " 'Organics mixed with non-organic material'\n",
      " 'Notice of the Department of Board of Health mutilated, obstructed, or removed.'\n",
      " 'Non-TCS food that has been served to the public being re-served. (Does not apply to wrapped foods where the wrapper seal has not been broken or opened).'\n",
      " 'Food not labeled in accordance with the approved HACCP plan'\n",
      " 'Failure to post signage in organics collection area.'\n",
      " \"Prohibited drink listed on children's meal menu\"\n",
      " 'Original label for smoking products sold or offered for sale'\n",
      " 'Raw food not properly washed prior to serving.'\n",
      " 'Canned food product observed swollen, leaking or rusted, and not segregated from other consumable food items.'\n",
      " 'Sign prohibiting entry of persons under 21 years of age not posted at public entryway to Non-Tobacco Hookah Establishment (NTHE)'\n",
      " 'Organics containers not provided'\n",
      " 'Letter grade or Grade Pending card removed, destroyed, modified, obscured, or otherwise tampered with'\n",
      " 'Toilet facility used by women does not have at least one covered garbage receptacle.'\n",
      " 'Food not labeled in accordance with HACCP plan.'\n",
      " 'Sale of tobacco products, herbal cigarettes, liquid nicotine, shisha, rolling papers or smoking paraphernalia to minors prohibited']\n"
     ]
    }
   ],
   "source": [
    "violation_types = res_inspection['VIOLATION DESCRIPTION'].unique()\n",
    "\n",
    "print(violation_types)"
   ]
  },
  {
   "cell_type": "code",
   "execution_count": 4,
   "id": "4cd0cb5f-160b-4b63-8996-3402542749fb",
   "metadata": {
    "tags": []
   },
   "outputs": [],
   "source": [
    "violation_list = [\"sewage\",\n",
    "                 \"mice\",\n",
    "                  \"roaches\",\n",
    "                 \"pest\",\n",
    "                 \"rodents\",\n",
    "                 \"harborage\",\n",
    "                 \"vermin\",\n",
    "                 \"filth\",\n",
    "                 \"flies\",\n",
    "                 \"garbage\",\n",
    "                 \"receptacle\",\n",
    "                 \"organics\",\n",
    "                 \"nuisance\",\n",
    "                 \"waste\",\n",
    "                 \"back-flow\"]"
   ]
  },
  {
   "cell_type": "code",
   "execution_count": 5,
   "id": "3c7624bd-a1c3-41b3-a2b2-efa89275069b",
   "metadata": {
    "tags": []
   },
   "outputs": [],
   "source": [
    "# Create regex pattern from complaint_list\n",
    "violation_pattern = \"|\".join(violation_list)  # Combine terms into a regex pattern\n",
    "\n",
    "# Filter for specific complaint types in 'VIOLATION DESCRIPTION'\n",
    "res_inspection_filtered = res_inspection[\n",
    "    res_inspection['VIOLATION DESCRIPTION'].str.contains(violation_pattern, case=False, na=False)\n",
    "]"
   ]
  },
  {
   "cell_type": "code",
   "execution_count": 6,
   "id": "0e49b640-3ae0-4f39-8733-60546b0fe717",
   "metadata": {
    "tags": []
   },
   "outputs": [],
   "source": [
    "# Store trimmed data\n",
    "res_inspection_filtered.to_csv(\"data/sanitation_related_restaurant_inspections.csv\", index=False)"
   ]
  },
  {
   "cell_type": "markdown",
   "id": "236ce8a0-76fe-4352-8d5a-dcf195ccbc96",
   "metadata": {
    "tags": []
   },
   "source": [
    "## Other 311 Requests"
   ]
  },
  {
   "cell_type": "markdown",
   "id": "4717c76e-b338-4e4e-a476-fec1284f9eb7",
   "metadata": {},
   "source": [
    "Additionally, we extracted complaint records for \"derelict vehicles\" and \"graffiti\" from the 311 request parquet. Like trash-related requests, these complaints are also handled by DSNY and reflect poorly managed locations prone to trash dumping. We filtered and stored the records associated with these two complaints separately for further use."
   ]
  },
  {
   "cell_type": "code",
   "execution_count": 7,
   "id": "f336b430-44c3-4a9f-a0f9-9cc9287f2fd9",
   "metadata": {
    "tags": []
   },
   "outputs": [],
   "source": [
    "# Load the Master Parquet file\n",
    "requests = pd.read_parquet('data/311_Service_Requests.parquet')"
   ]
  },
  {
   "cell_type": "code",
   "execution_count": 8,
   "id": "192432c2-c920-4c50-855f-f6696dacc390",
   "metadata": {
    "tags": []
   },
   "outputs": [],
   "source": [
    "filtered_requests = requests[\n",
    "    (requests['Agency'] == 'DSNY')]"
   ]
  },
  {
   "cell_type": "code",
   "execution_count": 9,
   "id": "d56d4de0-4bbd-434f-be81-38810fc4254d",
   "metadata": {
    "tags": []
   },
   "outputs": [],
   "source": [
    "# Create a column of the complaint creation date\n",
    "filtered_requests = filtered_requests.rename(columns={'Created Date': 'Created Date Time'})\n",
    "filtered_requests = filtered_requests.rename(columns={'Closed Date': 'Closed Date Time'})\n",
    "\n",
    "filtered_requests['Created Date'] = pd.to_datetime(filtered_requests['Created Date Time'], format='%m/%d/%Y %I:%M:%S %p').dt.date\n",
    "\n",
    "# Drop redundant columns\n",
    "filtered_requests = filtered_requests.drop(columns=['Created Date Time', 'Closed Date Time'])\n",
    "\n",
    "start_date = datetime.strptime('2022-01-01', '%Y-%m-%d').date()\n",
    "end_date = datetime.strptime('2023-12-31', '%Y-%m-%d').date()"
   ]
  },
  {
   "cell_type": "markdown",
   "id": "a140ec24-6724-402d-a352-ae0acf0d1def",
   "metadata": {},
   "source": [
    "### Derelict Vehicles"
   ]
  },
  {
   "cell_type": "code",
   "execution_count": 10,
   "id": "8871669c-da7e-47d1-b66b-6bc650fcabcc",
   "metadata": {
    "tags": []
   },
   "outputs": [],
   "source": [
    "derelict_vehicles = filtered_requests[\n",
    "    (filtered_requests['Complaint Type'] == \"Derelict Vehicles\") &\n",
    "    (filtered_requests['Created Date'] >= start_date) & \n",
    "    (filtered_requests['Created Date'] <= end_date)\n",
    "]"
   ]
  },
  {
   "cell_type": "code",
   "execution_count": 11,
   "id": "434c8ab2-a988-4f58-ae96-5393faec0d68",
   "metadata": {
    "tags": []
   },
   "outputs": [],
   "source": [
    "# Store trimmed data\n",
    "derelict_vehicles.to_parquet('data/derelict_vehicles.parquet', engine='pyarrow', compression='snappy', index=False)"
   ]
  },
  {
   "cell_type": "markdown",
   "id": "10c80804-0285-4ea4-b43a-f2f2b0d17f30",
   "metadata": {},
   "source": [
    "### Graffiti"
   ]
  },
  {
   "cell_type": "code",
   "execution_count": 12,
   "id": "a463d626-3d03-433f-aa20-34f617951921",
   "metadata": {
    "tags": []
   },
   "outputs": [],
   "source": [
    "graffiti = filtered_requests[\n",
    "    (filtered_requests['Complaint Type'] == \"Graffiti\") &\n",
    "    (filtered_requests['Created Date'] >= start_date) & \n",
    "    (filtered_requests['Created Date'] <= end_date)\n",
    "]"
   ]
  },
  {
   "cell_type": "code",
   "execution_count": 13,
   "id": "0ce10134-ce3a-4473-931b-96650aa58289",
   "metadata": {
    "tags": []
   },
   "outputs": [],
   "source": [
    "# Store trimmed data\n",
    "graffiti.to_parquet('data/graffiti.parquet', engine='pyarrow', compression='snappy', index=False)"
   ]
  },
  {
   "cell_type": "markdown",
   "id": "000ff5e5-90df-4444-a5ee-a265fad5fa91",
   "metadata": {},
   "source": [
    "### Vacant Lot\n",
    "\n",
    "We considered adding vacant lot as a factor, but there is no data reported under this category for the specified years."
   ]
  }
 ],
 "metadata": {
  "kernelspec": {
   "display_name": "Python 3 (ipykernel)",
   "language": "python",
   "name": "python3"
  },
  "language_info": {
   "codemirror_mode": {
    "name": "ipython",
    "version": 3
   },
   "file_extension": ".py",
   "mimetype": "text/x-python",
   "name": "python",
   "nbconvert_exporter": "python",
   "pygments_lexer": "ipython3",
   "version": "3.10.12"
  }
 },
 "nbformat": 4,
 "nbformat_minor": 5
}
